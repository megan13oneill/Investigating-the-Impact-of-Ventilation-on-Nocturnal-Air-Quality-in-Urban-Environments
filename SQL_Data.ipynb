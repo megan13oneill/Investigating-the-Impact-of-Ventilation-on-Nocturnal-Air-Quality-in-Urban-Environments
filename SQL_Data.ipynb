{
 "cells": [
  {
   "cell_type": "code",
   "execution_count": 3,
   "metadata": {},
   "outputs": [],
   "source": [
    "import pandas as pd\n",
    "import sqlite3\n",
    "\n",
    "# Function to process a CSV and return a cleaned DataFrame\n",
    "def process_csv(file_path, columns_to_keep):\n",
    "    # Load the CSV data into a Pandas DataFrame\n",
    "    df = pd.read_csv(file_path)\n",
    "\n",
    "    # Filter the DataFrame to only include the specified columns\n",
    "    df = df[columns_to_keep]\n",
    "\n",
    "    # Convert the 'timestamp' column to datetime format (assume there is a timestamp column)\n",
    "    df['timestamp'] = pd.to_datetime(df['timestamp'], errors='coerce')\n",
    "\n",
    "    # Separate 'timestamp' into 'date' and 'time' columns\n",
    "    df['date'] = df['timestamp'].dt.date\n",
    "    df['time'] = df['timestamp'].dt.strftime('%H:%M:%S')\n",
    "\n",
    "    # Drop the original 'timestamp' column\n",
    "    df = df.drop(columns=['timestamp'])\n",
    "\n",
    "    # Fill missing values with 'missing'\n",
    "    df = df.fillna('missing')\n",
    "\n",
    "    return df\n",
    "\n",
    "# List of columns to keep (new columns based on your description)\n",
    "columns_to_keep = [\n",
    "    'Overall ID', 'timestamp', 'IAQ', 'Temperature / C', 'Humidity / %', \n",
    "    'Compensated Gas / ppm', 'VOC / ppb', 'CO2 / ppm'\n",
    "]\n",
    "\n",
    "# Update the database path (new database name)\n",
    "db_path = '/Users/stephaniebellew/Desktop/Data_IAQ_Ventilation_Experiment.db'\n",
    "\n",
    "# Connect to SQLite database (it will create the file if it doesn't exist)\n",
    "conn = sqlite3.connect(db_path)\n",
    "\n",
    "# List of file paths for the CSVs to process\n",
    "file_paths = [\n",
    "    '/Users/stephaniebellew/Desktop/Ventilationcsv/Experiment1_Location1__.csv',\n",
    "    '/Users/stephaniebellew/Desktop/Ventilationcsv/Experiment1_Location2__.csv',\n",
    "    '/Users/stephaniebellew/Desktop/Ventilationcsv/Experiment2_Location1_.csv',\n",
    "    '/Users/stephaniebellew/Desktop/Ventilationcsv/Experiment2_Location2_.csv'\n",
    "]\n",
    "\n",
    "\n",
    "# Process each CSV file and append the data to the database\n",
    "for file_path in file_paths:\n",
    "    df = process_csv(file_path, columns_to_keep)\n",
    "    df.to_sql('Data_IAQ_Ventilation_Experiment', conn, if_exists='append', index=False)\n",
    "\n",
    "\n",
    "\n"
   ]
  },
  {
   "cell_type": "code",
   "execution_count": 17,
   "metadata": {},
   "outputs": [
    {
     "name": "stdout",
     "output_type": "stream",
     "text": [
      "Index(['Overall ID', 'Experiment ID', 'Location ID', 'Measurement ID',\n",
      "       'Experiment Condition', 'timestamp', 'time', 'IAQ', 'Temperature / C',\n",
      "       'Humidity / %', 'Compensated Gas / ppm', 'VOC / ppb', 'CO2 / ppm',\n",
      "       'Temperature (Weather)', 'Humidity (Weather)', 'Wind Speed (Weather)',\n",
      "       'AQI (Pollution)', 'CO Concentration', 'NO2 Concentration'],\n",
      "      dtype='object')\n"
     ]
    }
   ],
   "source": [
    "df = pd.read_csv(file_paths[0])  # Load the first CSV\n",
    "print(df.columns)  # Print the column names of the CSV\n"
   ]
  },
  {
   "cell_type": "code",
   "execution_count": 4,
   "metadata": {},
   "outputs": [
    {
     "name": "stdout",
     "output_type": "stream",
     "text": [
      "      Overall ID      IAQ Temperature / C Humidity / % Compensated Gas / ppm  \\\n",
      "0          1_1_1  missing         missing      missing               missing   \n",
      "1          1_1_2      0.0             0.0          0.0                   0.0   \n",
      "2          1_1_3      0.0             0.0          0.0                   0.0   \n",
      "3          1_1_4      0.0             0.0          0.0                   0.0   \n",
      "4          1_1_5      0.0             0.0          0.0                   0.0   \n",
      "...          ...      ...             ...          ...                   ...   \n",
      "99995  2_2_14415     28.0           23.18        46.17                   5.0   \n",
      "99996  2_2_14416     28.0           23.18        46.17                   5.0   \n",
      "99997  2_2_14417     27.0           23.18        46.17                   5.0   \n",
      "99998  2_2_14418     27.0           23.18        46.17                   5.0   \n",
      "99999  2_2_14419     27.0           23.18        46.17                   5.0   \n",
      "\n",
      "      VOC / ppb CO2 / ppm        date      time  \n",
      "0       missing   missing  2024-11-27  22:34:26  \n",
      "1           0.0       0.0  2024-11-27  22:34:27  \n",
      "2           0.0       0.0  2024-11-27  22:34:29  \n",
      "3           0.0       0.0  2024-11-27  22:34:30  \n",
      "4           0.0       0.0  2024-11-27  22:34:31  \n",
      "...         ...       ...         ...       ...  \n",
      "99995      0.51     508.0  2024-12-04  03:14:02  \n",
      "99996      0.51     508.0  2024-12-04  03:14:04  \n",
      "99997      0.51     508.0  2024-12-04  03:14:05  \n",
      "99998      0.51     507.0  2024-12-04  03:14:06  \n",
      "99999      0.51     507.0  2024-12-04  03:14:07  \n",
      "\n",
      "[100000 rows x 9 columns]\n"
     ]
    }
   ],
   "source": [
    "# Drop the existing table if it exists\n",
    "conn.execute(\"DROP TABLE IF EXISTS Data_IAQ_Ventilation_Experiment;\")\n",
    "\n",
    "# Process each CSV file and append the data to the database\n",
    "for file_path in file_paths:\n",
    "    df = process_csv(file_path, columns_to_keep)\n",
    "    df.to_sql('Data_IAQ_Ventilation_Experiment', conn, if_exists='append', index=False)\n",
    "\n",
    "# Verify by fetching some data from the database\n",
    "query = \"SELECT * FROM Data_IAQ_Ventilation_Experiment LIMIT 100000;\"\n",
    "result = pd.read_sql(query, conn)\n",
    "\n",
    "# Display the result (first 5 rows of the table)\n",
    "print(result)\n"
   ]
  }
 ],
 "metadata": {
  "kernelspec": {
   "display_name": "base",
   "language": "python",
   "name": "python3"
  },
  "language_info": {
   "codemirror_mode": {
    "name": "ipython",
    "version": 3
   },
   "file_extension": ".py",
   "mimetype": "text/x-python",
   "name": "python",
   "nbconvert_exporter": "python",
   "pygments_lexer": "ipython3",
   "version": "3.12.4"
  }
 },
 "nbformat": 4,
 "nbformat_minor": 2
}
